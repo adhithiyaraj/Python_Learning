{
 "cells": [
  {
   "cell_type": "code",
   "execution_count": 63,
   "metadata": {},
   "outputs": [
    {
     "name": "stdout",
     "output_type": "stream",
     "text": [
      "[1, 'A', '2', [2, 3]]\n",
      "['BMW', 'Audi', 'Maruti', 'Tesla']\n"
     ]
    }
   ],
   "source": [
    "emptylist=[]\n",
    "listx= [0,1,2,3,4]\n",
    "listS = [1,'A','ABC',[1,2,3], {1,2,3}]\n",
    "print(lists)\n",
    "carlist=['BMW','Audi','Maruti','Tesla']\n",
    "print(carlist)"
   ]
  },
  {
   "cell_type": "code",
   "execution_count": 29,
   "metadata": {},
   "outputs": [
    {
     "name": "stdout",
     "output_type": "stream",
     "text": [
      "0 \n",
      "\n",
      "4 \n",
      "\n",
      "[0, 1, 2, 3, 4, 0, 1, 2, 3, 4, 0, 1, 2, 3, 4]\n"
     ]
    }
   ],
   "source": [
    "#indexing\n",
    "print(listx[0],\"\\n\")\n",
    "print(listx[-1],\"\\n\")\n",
    "print(listx*3)\n"
   ]
  },
  {
   "cell_type": "code",
   "execution_count": 40,
   "metadata": {},
   "outputs": [
    {
     "name": "stdout",
     "output_type": "stream",
     "text": [
      "[0, 1, 2, 3, 4]\n",
      "[0, 1] \n",
      "\n",
      "[1, 2, 3] \n",
      "\n",
      "[2, 3, 4] \n",
      "\n",
      "[0, 1] \n",
      "\n"
     ]
    }
   ],
   "source": [
    "#slicing\n",
    "print(listx[:])\n",
    "m=0\n",
    "n=2\n",
    "print(listx[m:n],\"\\n\") #m to n-1th term\n",
    "print(listx[1:-1],\"\\n\")\n",
    "print(listx[2:],\"\\n\")\n",
    "print(listx[:2],\"\\n\")"
   ]
  },
  {
   "cell_type": "code",
   "execution_count": 62,
   "metadata": {},
   "outputs": [
    {
     "name": "stdout",
     "output_type": "stream",
     "text": [
      "6\n",
      "[0, 2, 4, 6, 8]\n",
      "[8, 7, 6, 5, 4, 3, 2, 1, 0]\n",
      "[2, 3, 4, 5, 6]\n",
      "[]\n"
     ]
    }
   ],
   "source": [
    "#extended slicing\n",
    "listext=[0,1,2,3,4,5,6,7,8]\n",
    "print(listext[-3])\n",
    "print(listext[::2])\n",
    "print(listext[::-1])\n",
    "print(listext[2:-2])"
   ]
  },
  {
   "cell_type": "code",
   "execution_count": 71,
   "metadata": {},
   "outputs": [
    {
     "name": "stdout",
     "output_type": "stream",
     "text": [
      "[1, 'A', 'ABC', [1, 2, 3], {1, 2, 3}, 'aaaa', 'aaaa', [0, 1, 2, 3, 4, 's', 't', 'r', 'i', 'n', 'g', 's', 't', 'r', 'i', 'n', 'g'], 'a', 'd', 'h', 'i']\n",
      "a\n"
     ]
    }
   ],
   "source": [
    "#adding elements\n",
    "print(listS)\n",
    "#listS.append('aaaa')\n",
    "#listS.append(listx)\n",
    "listx.extend('string')\n",
    "listS.extend('adhi')\n",
    "print(listS[8])"
   ]
  },
  {
   "cell_type": "code",
   "execution_count": 77,
   "metadata": {},
   "outputs": [
    {
     "name": "stdout",
     "output_type": "stream",
     "text": [
      "[1, 'A', 'ABC', [1, 2, 3], {1, 2, 3}, 'aaaa', 'aaaa', [0, 1, 2, 3, 4, 's', 't', 'r', 'i', 'n', 'g', 's', 't', 'r', 'i', 'n', 'g', 's', 't', 'r', 'i', 'n', 'g'], 'a', 'd', 'h', 'i', 'a', 'd', 'h', 'i'] \n",
      "\n",
      "[{1, 2, 3}, 'aaaa', 'aaaa', [0, 1, 2, 3, 4, 's', 't', 'r', 'i', 'n', 'g', 's', 't', 'r', 'i', 'n', 'g', 's', 't', 'r', 'i', 'n', 'g'], 'a', 'd', 'h', 'i', 'a', 'd', 'h', 'i']\n"
     ]
    }
   ],
   "source": [
    "#deleting elements\n",
    "print (listS,\"\\n\")\n",
    "del listS[0:4]\n",
    "print(listS)"
   ]
  },
  {
   "cell_type": "code",
   "execution_count": 87,
   "metadata": {},
   "outputs": [
    {
     "name": "stdout",
     "output_type": "stream",
     "text": [
      "['Audi', 'Maruti']\n",
      "['Audi', 'Maruti']\n"
     ]
    }
   ],
   "source": [
    "#remove\n",
    "print(carlist)\n",
    "#print(carlist.pop()) ->removes the last element\n",
    "#carlist.remove('BMW')\n",
    "print(carlist)"
   ]
  },
  {
   "cell_type": "code",
   "execution_count": 90,
   "metadata": {},
   "outputs": [
    {
     "name": "stdout",
     "output_type": "stream",
     "text": [
      "[0, 1, 4, 9, 16, 25, 36, 49]\n",
      "['!Adhi', '!sjd']\n"
     ]
    }
   ],
   "source": [
    "#List comprehension\n",
    "numlist=[0,1,2,3,4,5,6,7]\n",
    "listsquares=[x*x for x in numlist]\n",
    "print(listsquares)\n",
    "\n",
    "stringlist=['Adhi','sjd']\n",
    "out=['!' + s for s in stringlist ]\n",
    "print(out)\n"
   ]
  },
  {
   "cell_type": "code",
   "execution_count": 92,
   "metadata": {},
   "outputs": [
    {
     "name": "stdout",
     "output_type": "stream",
     "text": [
      "cross product: ['A1', 'A2', 'A3', 'B1', 'B2', 'B3', 'C1', 'C2', 'C3', 'D1', 'D2', 'D3']\n"
     ]
    }
   ],
   "source": [
    "#cross product of 2 lists\n",
    "rows = '123'\n",
    "cols = 'ABCD'\n",
    "crossproduct=[c+r for c in cols for r in rows]\n",
    "print('cross product:',crossproduct)"
   ]
  },
  {
   "cell_type": "code",
   "execution_count": 100,
   "metadata": {},
   "outputs": [
    {
     "name": "stdout",
     "output_type": "stream",
     "text": [
      "applemangoorange\n"
     ]
    }
   ],
   "source": [
    "#remove some set from a list: declare the subset as another list and do this operation\n",
    "list1='apple','mango','orange'\n",
    "vowels = 'aeiouAEIOU'\n",
    "withoutvowels=[x for x in list1 if x not in vowels]\n",
    "print(''.join(withoutvowels))"
   ]
  },
  {
   "cell_type": "code",
   "execution_count": null,
   "metadata": {},
   "outputs": [],
   "source": []
  }
 ],
 "metadata": {
  "kernelspec": {
   "display_name": "Python 3",
   "language": "python",
   "name": "python3"
  },
  "language_info": {
   "codemirror_mode": {
    "name": "ipython",
    "version": 3
   },
   "file_extension": ".py",
   "mimetype": "text/x-python",
   "name": "python",
   "nbconvert_exporter": "python",
   "pygments_lexer": "ipython3",
   "version": "3.7.6"
  }
 },
 "nbformat": 4,
 "nbformat_minor": 4
}
