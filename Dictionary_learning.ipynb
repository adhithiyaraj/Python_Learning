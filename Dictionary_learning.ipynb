{
 "cells": [
  {
   "cell_type": "markdown",
   "metadata": {},
   "source": [
    "Dictionary learning"
   ]
  },
  {
   "cell_type": "code",
   "execution_count": 17,
   "metadata": {},
   "outputs": [
    {
     "name": "stdout",
     "output_type": "stream",
     "text": [
      "{'A': 1, 'B': 2, 'C': 3} \n",
      "\n",
      "{'A': 1, 9: 'Nine', (2, 3): 'Nums', 'Hi': 'all'} \n",
      "\n",
      "{'A': 999, 'B': 878, 'C': 832}\n"
     ]
    }
   ],
   "source": [
    "emptydictonary={}\n",
    "dict1={'A':1,'B':2,'C':3}\n",
    "dict2={'A':1,9:'Nine',(2,3):'Nums','Hi':'all'}\n",
    "dict3=dict([('A',999),('B',878),('C',832)])\n",
    "print(dict1,\"\\n\")\n",
    "print(dict2,\"\\n\")\n",
    "print(dict3)"
   ]
  },
  {
   "cell_type": "code",
   "execution_count": 19,
   "metadata": {},
   "outputs": [
    {
     "name": "stdout",
     "output_type": "stream",
     "text": [
      "2\n",
      "Nine\n",
      "Nums\n",
      "2\n"
     ]
    }
   ],
   "source": [
    "#indexing\n",
    "print(dict1['B'])\n",
    "print(dict2[9])\n",
    "print(dict2[(2,3)])\n",
    "print(dict1.get('B'))"
   ]
  },
  {
   "cell_type": "code",
   "execution_count": 23,
   "metadata": {},
   "outputs": [
    {
     "name": "stdout",
     "output_type": "stream",
     "text": [
      "{'A': 4, 'B': 2, 'C': 3}\n",
      "{'A': 999, 'B': 878, 'C': 832, 'D': 'Adhi'}\n"
     ]
    }
   ],
   "source": [
    "#Updating\n",
    "dict1['A']=4\n",
    "print(dict1)\n",
    "dict3['D']='Adhi'\n",
    "print(dict3)"
   ]
  },
  {
   "cell_type": "code",
   "execution_count": 25,
   "metadata": {},
   "outputs": [
    {
     "name": "stdout",
     "output_type": "stream",
     "text": [
      "True\n",
      "False\n"
     ]
    }
   ],
   "source": [
    "#membership test: we can test if the key is in the particular dictionary\n",
    "print('A' in dict1)\n",
    "print('X' in dict1)"
   ]
  },
  {
   "cell_type": "code",
   "execution_count": 29,
   "metadata": {},
   "outputs": [
    {
     "name": "stdout",
     "output_type": "stream",
     "text": [
      "{'A': 1, 9: 'Nine', (2, 3): 'Nums', 'Hi': 'all'} \n",
      "\n",
      "A is index of: 1\n",
      "9 is index of: Nine\n",
      "(2, 3) is index of: Nums\n",
      "Hi is index of: all\n"
     ]
    }
   ],
   "source": [
    "#Iteration over dictionary\n",
    "print(dict2,\"\\n\")\n",
    "for a in dict2:\n",
    "    print(a,\"is index of:\",dict2[a])"
   ]
  },
  {
   "cell_type": "code",
   "execution_count": 31,
   "metadata": {},
   "outputs": [
    {
     "name": "stdout",
     "output_type": "stream",
     "text": [
      "{0: 0, 1: 1, 2: 4, 3: 9, 4: 16, 5: 25, 6: 36, 7: 49, 8: 64}\n"
     ]
    }
   ],
   "source": [
    "#dictionary comprehension\n",
    "squareloop={x:x**2 for x in range(9)}   #x^2 not working\n",
    "print(squareloop)"
   ]
  },
  {
   "cell_type": "code",
   "execution_count": 35,
   "metadata": {},
   "outputs": [
    {
     "data": {
      "text/plain": [
       "{'A': 0,\n",
       " 'B': 1,\n",
       " 'C': 2,\n",
       " 'D': 3,\n",
       " 'E': 4,\n",
       " 'F': 5,\n",
       " 'G': 6,\n",
       " 'H': 7,\n",
       " 'I': 8,\n",
       " 'J': 9,\n",
       " 'K': 10,\n",
       " 'L': 11,\n",
       " 'M': 12,\n",
       " 'N': 13,\n",
       " 'O': 14,\n",
       " 'P': 15,\n",
       " 'Q': 16,\n",
       " 'R': 17,\n",
       " 'S': 18,\n",
       " 'T': 19,\n",
       " 'U': 20,\n",
       " 'V': 21,\n",
       " 'W': 22,\n",
       " 'X': 23,\n",
       " 'Y': 24,\n",
       " 'Z': 25}"
      ]
     },
     "execution_count": 35,
     "metadata": {},
     "output_type": "execute_result"
    }
   ],
   "source": [
    "#Creating dictinary from 2 lists\n",
    "letters = 'ABCDEFGHIJKLMNOPQRSTUVWXYZ'\n",
    "numbers = range(26)\n",
    "dict_map={ letter:number for letter,number in zip(letters,numbers)} \n",
    "dict_map"
   ]
  },
  {
   "cell_type": "code",
   "execution_count": 38,
   "metadata": {},
   "outputs": [
    {
     "name": "stdout",
     "output_type": "stream",
     "text": [
      "{'A': 1, 'B': 2, 'C': 3}\n",
      "{1: 'A', 2: 'B', 3: 'C'}\n"
     ]
    }
   ],
   "source": [
    "#Dictonary reversal\n",
    "dictx={'A':1,'B':2,'C':3}\n",
    "dictx_reversal={dictx[key]:key for key in dictx}\n",
    "print(dictx)\n",
    "print(dictx_reversal)"
   ]
  },
  {
   "cell_type": "markdown",
   "metadata": {},
   "source": [
    "Built-in Functions with Dictionary\n",
    "\n",
    "Function\tDescription\n",
    "all()\tReturn True if all keys of the dictionary are true (or if the dictionary is empty).\n",
    "any()\tReturn True if any key of the dictionary is true. If the dictionary is empty, return False.\n",
    "len()\tReturn the length (the number of items) in the dictionary.\n",
    "cmp()\tCompares items of two dictionaries.\n",
    "sorted()\tReturn a new sorted list of keys in the dictionary."
   ]
  },
  {
   "cell_type": "markdown",
   "metadata": {},
   "source": [
    "Python Dictionary Methods\n",
    "\n",
    "Method\tDescription\n",
    "clear()\tRemove all items form the dictionary.\n",
    "copy()\tReturn a shallow copy of the dictionary.\n",
    "fromkeys(seq[, v])\tReturn a new dictionary with keys from seq and value equal to v (defaults to None).\n",
    "get(key[,d])\tReturn the value of key. If key doesnot exit, return d (defaults to None).\n",
    "items()\tReturn a new view of the dictionary's items (key, value).\n",
    "keys()\tReturn a new view of the dictionary's keys.\n",
    "pop(key[,d])\tRemove the item with key and return its value or d if key is not found. If d is not provided and key is not found, raises KeyError.\n",
    "popitem()\tRemove and return an arbitary item (key, value). Raises KeyError if the dictionary is empty.\n",
    "setdefault(key[,d])\tIf key is in the dictionary, return its value. If not, insert key with a value of d and return d (defaults to None).\n",
    "update([other])\tUpdate the dictionary with the key/value pairs from other, overwriting existing keys.\n",
    "values()\tReturn a new view of the dictionary's values"
   ]
  }
 ],
 "metadata": {
  "kernelspec": {
   "display_name": "Python 3",
   "language": "python",
   "name": "python3"
  },
  "language_info": {
   "codemirror_mode": {
    "name": "ipython",
    "version": 3
   },
   "file_extension": ".py",
   "mimetype": "text/x-python",
   "name": "python",
   "nbconvert_exporter": "python",
   "pygments_lexer": "ipython3",
   "version": "3.7.6"
  }
 },
 "nbformat": 4,
 "nbformat_minor": 4
}
