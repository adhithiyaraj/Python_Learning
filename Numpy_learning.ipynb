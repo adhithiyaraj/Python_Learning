{
 "cells": [
  {
   "cell_type": "markdown",
   "metadata": {},
   "source": [
    "# NUMPY LEARNING"
   ]
  },
  {
   "cell_type": "code",
   "execution_count": 1,
   "metadata": {},
   "outputs": [],
   "source": [
    "import numpy as np"
   ]
  },
  {
   "cell_type": "markdown",
   "metadata": {},
   "source": [
    "Rank of an array- Number of dimensions in the array is called rank of the array"
   ]
  },
  {
   "cell_type": "code",
   "execution_count": 6,
   "metadata": {},
   "outputs": [
    {
     "name": "stdout",
     "output_type": "stream",
     "text": [
      "[0 1 2 3 4 5 6 7 8] Shape= (9,) Type int32\n",
      "Class: ndarray\n"
     ]
    }
   ],
   "source": [
    "rank1array=np.array([0,1,2,3,4,5,6,7,8]) #rank1_array\n",
    "print(rank1array,'Shape=',rank1array.shape,'Type',rank1array.dtype)\n",
    "print('Class:',rank1array.__class__.__name__)"
   ]
  },
  {
   "cell_type": "code",
   "execution_count": 38,
   "metadata": {},
   "outputs": [
    {
     "name": "stdout",
     "output_type": "stream",
     "text": [
      "shape= (1, 9) Type int32\n",
      "shape= (3, 6) Type int32\n"
     ]
    }
   ],
   "source": [
    "rank2array1=np.array([[0,1,2,3,4,5,6,7,8]]) #rank2_array\n",
    "print('shape=',rank2array1.shape,'Type',rank2array1.dtype)\n",
    "\n",
    "rank2array2=np.array([[0,1,2,3,4,5],[6,7,8,9,10,11],[12,13,14,15,16,17]]) #rank2\n",
    "print('shape=',rank2array2.shape,'Type',rank2array1.dtype)"
   ]
  },
  {
   "cell_type": "markdown",
   "metadata": {},
   "source": [
    "ndarray members"
   ]
  },
  {
   "cell_type": "code",
   "execution_count": 26,
   "metadata": {},
   "outputs": [
    {
     "name": "stdout",
     "output_type": "stream",
     "text": [
      "shape: (3, 6)\n",
      "Dimensions :  2\n",
      "Number of elements :  18\n",
      "Type :  int32\n",
      "1D array form: [ 0  1  2  3  4  5  6  7  8  9 10 11 12 13 14 15 16 17]\n",
      "Transpose :\n",
      "  [[ 0  6 12]\n",
      " [ 1  7 13]\n",
      " [ 2  8 14]\n",
      " [ 3  9 15]\n",
      " [ 4 10 16]\n",
      " [ 5 11 17]]\n"
     ]
    }
   ],
   "source": [
    "print('shape:',(rank2array2.shape))\n",
    "print('Dimensions : ', rank2array2.ndim)\n",
    "print('Number of elements : ', rank2array2.size)\n",
    "print('Type : ', rank2array2.dtype)\n",
    "print('1D array form:',rank2array2.flatten())\n",
    "print('Transpose :\\n ', rank2array2.T)"
   ]
  },
  {
   "cell_type": "code",
   "execution_count": 27,
   "metadata": {},
   "outputs": [
    {
     "name": "stdout",
     "output_type": "stream",
     "text": [
      "Reshape: [[ 0  1  2  3  4  5  6  7  8]\n",
      " [ 9 10 11 12 13 14 15 16 17]]\n",
      "Resize: None\n"
     ]
    }
   ],
   "source": [
    "print('Reshape:',rank2array2.reshape(2,9))\n",
    "print('Resize:',rank2array2.resize(2,10))"
   ]
  },
  {
   "cell_type": "markdown",
   "metadata": {},
   "source": [
    "Rank 1 array indexing"
   ]
  },
  {
   "cell_type": "code",
   "execution_count": 36,
   "metadata": {},
   "outputs": [
    {
     "name": "stdout",
     "output_type": "stream",
     "text": [
      "[0 1 2 3 4 5 6 7 8]\n",
      "0\n",
      "8\n",
      "[1 2]\n",
      "[1 2 3 4 5 6 7]\n",
      "[1 2 3 4 5 6 7 8]\n",
      "[0 2 4 6 8]\n",
      "[1 3 5]\n",
      "[8 7 6 5 4 3 2 1 0]\n",
      "[8 7 6 5 4 3 2]\n"
     ]
    }
   ],
   "source": [
    "print(rank1array)\n",
    "print(rank1array[0])\n",
    "print(rank1array[-1])\n",
    "print(rank1array[1:3]) #start:end\n",
    "print(rank1array[1:-1])\n",
    "print(rank1array[1:])\n",
    "print(rank1array[::2]) #step of 2\n",
    "print(rank1array[1:6:2])\n",
    "print(rank1array[::-1]) #reverse of an array\n",
    "print(rank1array[8:1:-1])"
   ]
  },
  {
   "cell_type": "markdown",
   "metadata": {},
   "source": [
    "Rank2 array indexing"
   ]
  },
  {
   "cell_type": "code",
   "execution_count": 53,
   "metadata": {},
   "outputs": [
    {
     "name": "stdout",
     "output_type": "stream",
     "text": [
      "[[ 0  1  2  3  4  5]\n",
      " [ 6  7  8  9 10 11]\n",
      " [12 13 14 15 16 17]] \n",
      "\n",
      "[ 6  7  8  9 10 11] \n",
      "\n",
      "[[6 7]] \n",
      "\n",
      "[[ 5  4  3  2  1  0]\n",
      " [11 10  9  8  7  6]\n",
      " [17 16 15 14 13 12]] \n",
      "\n",
      "[[12 13 14 15 16 17]\n",
      " [ 6  7  8  9 10 11]\n",
      " [ 0  1  2  3  4  5]]\n"
     ]
    }
   ],
   "source": [
    "print(rank2array2,\"\\n\")\n",
    "print(rank2array2[1,],\"\\n\")\n",
    "print(rank2array2[1:2,0:2],\"\\n\") #(rowstart:rowend, columnstart:columnend)\n",
    "print(rank2array2[:,::-1],\"\\n\") #reverse of each row\n",
    "print(rank2array2[::-1,:]) #reverse order of each row"
   ]
  },
  {
   "cell_type": "markdown",
   "metadata": {},
   "source": [
    "Np functions"
   ]
  },
  {
   "cell_type": "markdown",
   "metadata": {},
   "source": [
    "Arange"
   ]
  },
  {
   "cell_type": "code",
   "execution_count": 62,
   "metadata": {},
   "outputs": [
    {
     "name": "stdout",
     "output_type": "stream",
     "text": [
      "[0 1 2 3 4] \n",
      "\n",
      "[3 4 5 6 7 8 9] \n",
      "\n",
      "[ 3  5  7  9 11 13] \n",
      "\n",
      "[[ 0  1  2  3  4]\n",
      " [ 5  6  7  8  9]\n",
      " [10 11 12 13 14]\n",
      " [15 16 17 18 19]\n",
      " [20 21 22 23 24]]\n"
     ]
    }
   ],
   "source": [
    "print(np.arange(5),\"\\n\")\n",
    "print(np.arange(3,10),\"\\n\")\n",
    "print(np.arange(3,15,2),\"\\n\")\n",
    "print(np.arange(25).reshape(5,5))"
   ]
  },
  {
   "cell_type": "markdown",
   "metadata": {},
   "source": [
    "Ones and zeros"
   ]
  },
  {
   "cell_type": "code",
   "execution_count": 76,
   "metadata": {},
   "outputs": [
    {
     "name": "stdout",
     "output_type": "stream",
     "text": [
      "[0. 0. 0. 0.] \n",
      "\n",
      "[[0. 0. 0. 0.]\n",
      " [0. 0. 0. 0.]\n",
      " [0. 0. 0. 0.]] \n",
      "\n",
      "[1. 1. 1.] \n",
      "\n",
      "[[1. 1.]\n",
      " [1. 1.]\n",
      " [1. 1.]] \n",
      "\n",
      "[[[[1. 1. 1.]\n",
      "   [1. 1. 1.]\n",
      "   [1. 1. 1.]]\n",
      "\n",
      "  [[1. 1. 1.]\n",
      "   [1. 1. 1.]\n",
      "   [1. 1. 1.]]\n",
      "\n",
      "  [[1. 1. 1.]\n",
      "   [1. 1. 1.]\n",
      "   [1. 1. 1.]]]\n",
      "\n",
      "\n",
      " [[[1. 1. 1.]\n",
      "   [1. 1. 1.]\n",
      "   [1. 1. 1.]]\n",
      "\n",
      "  [[1. 1. 1.]\n",
      "   [1. 1. 1.]\n",
      "   [1. 1. 1.]]\n",
      "\n",
      "  [[1. 1. 1.]\n",
      "   [1. 1. 1.]\n",
      "   [1. 1. 1.]]]\n",
      "\n",
      "\n",
      " [[[1. 1. 1.]\n",
      "   [1. 1. 1.]\n",
      "   [1. 1. 1.]]\n",
      "\n",
      "  [[1. 1. 1.]\n",
      "   [1. 1. 1.]\n",
      "   [1. 1. 1.]]\n",
      "\n",
      "  [[1. 1. 1.]\n",
      "   [1. 1. 1.]\n",
      "   [1. 1. 1.]]]\n",
      "\n",
      "\n",
      " [[[1. 1. 1.]\n",
      "   [1. 1. 1.]\n",
      "   [1. 1. 1.]]\n",
      "\n",
      "  [[1. 1. 1.]\n",
      "   [1. 1. 1.]\n",
      "   [1. 1. 1.]]\n",
      "\n",
      "  [[1. 1. 1.]\n",
      "   [1. 1. 1.]\n",
      "   [1. 1. 1.]]]]\n"
     ]
    }
   ],
   "source": [
    "print(np.zeros(4),\"\\n\")\n",
    "print(np.zeros((3,4)),\"\\n\")\n",
    "print(np.ones(3),\"\\n\")\n",
    "print(np.ones((3,2)),\"\\n\")\n",
    "print(np.ones(shape=(4,3,3,3)))"
   ]
  },
  {
   "cell_type": "markdown",
   "metadata": {},
   "source": [
    "Repeat"
   ]
  },
  {
   "cell_type": "code",
   "execution_count": 80,
   "metadata": {},
   "outputs": [
    {
     "name": "stdout",
     "output_type": "stream",
     "text": [
      "[[ 2  3  4]\n",
      " [ 2  3  4]\n",
      " [ 2  3  4]\n",
      " [ 0 11  1]\n",
      " [ 0 11  1]\n",
      " [ 0 11  1]\n",
      " [ 2  2  6]\n",
      " [ 2  2  6]\n",
      " [ 2  2  6]] \n",
      "\n",
      "[[ 2  2  2  3  3  3  4  4  4]\n",
      " [ 0  0  0 11 11 11  1  1  1]\n",
      " [ 2  2  2  2  2  2  6  6  6]]\n"
     ]
    }
   ],
   "source": [
    "newmatx=np.array([[2,3,4],[0,11,1],[2,2,6]])\n",
    "print(np.repeat(newmatx,3,axis=0),\"\\n\")\n",
    "print(np.repeat(newmatx,3,axis=1))"
   ]
  },
  {
   "cell_type": "markdown",
   "metadata": {},
   "source": [
    "Concatination"
   ]
  },
  {
   "cell_type": "code",
   "execution_count": 83,
   "metadata": {},
   "outputs": [
    {
     "name": "stdout",
     "output_type": "stream",
     "text": [
      "[[ 2  3  4]\n",
      " [ 0 11  1]\n",
      " [ 2  2  6]\n",
      " [ 1  1  1]\n",
      " [ 2  2  2]\n",
      " [ 3  3  3]] \n",
      "\n",
      "[[ 2  3  4  1  1  1]\n",
      " [ 0 11  1  2  2  2]\n",
      " [ 2  2  6  3  3  3]]\n"
     ]
    }
   ],
   "source": [
    "newMatX = np.array([[2,3,4],[0,11,1],[2,2,6]])\n",
    "newMatY = np.array([[1,1,1],[2,2,2],[3,3,3]])\n",
    "\n",
    "print(np.concatenate((newMatX,newMatY), axis=0),\"\\n\")\n",
    "print(np.concatenate((newMatX,newMatY), axis=1))"
   ]
  },
  {
   "cell_type": "markdown",
   "metadata": {},
   "source": [
    "Matrix Operation and linear algebra"
   ]
  },
  {
   "cell_type": "code",
   "execution_count": 93,
   "metadata": {},
   "outputs": [
    {
     "name": "stdout",
     "output_type": "stream",
     "text": [
      "element wise [[2. 0. 0.]\n",
      " [0. 2. 0.]\n",
      " [0. 0. 1.]]\n",
      "[[3. 3. 4.]\n",
      " [1. 3. 3.]\n",
      " [2. 1. 2.]] \n",
      "\n",
      "[[2. 0. 0.]\n",
      " [0. 2. 0.]\n",
      " [0. 0. 1.]] \n",
      "\n",
      "matmul [[17 55 23]\n",
      " [12 37 14]\n",
      " [ 6 25 13]] \n",
      "\n",
      "Dotprod [[17 55 23]\n",
      " [12 37 14]\n",
      " [ 6 25 13]] \n",
      "\n",
      "Inverse [[-0.6557377   0.52459016  0.37704918]\n",
      " [ 0.24590164 -0.19672131 -0.01639344]\n",
      " [-0.01639344  0.21311475 -0.06557377]]\n",
      "determinant 61.000000000000064\n",
      "Trace 5 \n",
      "\n",
      "Raise [[ 88  98 129]\n",
      " [ 56  63  83]\n",
      " [ 47  51  67]]\n"
     ]
    }
   ],
   "source": [
    "matx=np.array([[2,3,4],[1,2,3],[2,1,1]])\n",
    "maty=np.array([[1,7,4],[1,3,5],[3,8,0]])\n",
    "I=np.identity(3)\n",
    "#element wise multiplication\n",
    "print('element wise',matx*I)\n",
    "print(matx+I,\"\\n\")\n",
    "print(matx*I,\"\\n\")\n",
    "\n",
    "#matrix multiplication\n",
    "print('matmul',np.matmul(matx,maty),\"\\n\")\n",
    "\n",
    "#Dot product\n",
    "print('Dotprod',matx.dot(maty),\"\\n\")\n",
    "\n",
    "#Inverse of a matrix\n",
    "print('Inverse',np.linalg.inv(maty))\n",
    "\n",
    "#Determinant\n",
    "print('determinant',np.linalg.det(maty))\n",
    "\n",
    "#trace of a matrix\n",
    "print('Trace',np.trace(matx),\"\\n\")\n",
    "\n",
    "#matrix raised to power\n",
    "print('Raise',np.linalg.matrix_power(matx,3))\n"
   ]
  },
  {
   "cell_type": "code",
   "execution_count": null,
   "metadata": {},
   "outputs": [],
   "source": []
  }
 ],
 "metadata": {
  "kernelspec": {
   "display_name": "Python 3",
   "language": "python",
   "name": "python3"
  },
  "language_info": {
   "codemirror_mode": {
    "name": "ipython",
    "version": 3
   },
   "file_extension": ".py",
   "mimetype": "text/x-python",
   "name": "python",
   "nbconvert_exporter": "python",
   "pygments_lexer": "ipython3",
   "version": "3.7.6"
  }
 },
 "nbformat": 4,
 "nbformat_minor": 4
}
